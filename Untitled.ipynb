{
 "cells": [
  {
   "cell_type": "code",
   "execution_count": 1,
   "id": "5152aea8-3713-4e10-a3a8-a6cfd6f5f3be",
   "metadata": {},
   "outputs": [
    {
     "data": {
      "text/html": [
       "\r\n",
       "<div>\r\n",
       "    <div id='dotnet-interactive-this-cell-15936.Microsoft.DotNet.Interactive.Http.HttpPort' style='display: none'>\r\n",
       "        The below script needs to be able to find the current output cell; this is an easy method to get it.\r\n",
       "    </div>\r\n",
       "    <script type='text/javascript'>\r\n",
       "async function probeAddresses(probingAddresses) {\r\n",
       "    function timeout(ms, promise) {\r\n",
       "        return new Promise(function (resolve, reject) {\r\n",
       "            setTimeout(function () {\r\n",
       "                reject(new Error('timeout'))\r\n",
       "            }, ms)\r\n",
       "            promise.then(resolve, reject)\r\n",
       "        })\r\n",
       "    }\r\n",
       "\r\n",
       "    if (Array.isArray(probingAddresses)) {\r\n",
       "        for (let i = 0; i < probingAddresses.length; i++) {\r\n",
       "\r\n",
       "            let rootUrl = probingAddresses[i];\r\n",
       "\r\n",
       "            if (!rootUrl.endsWith('/')) {\r\n",
       "                rootUrl = `${rootUrl}/`;\r\n",
       "            }\r\n",
       "\r\n",
       "            try {\r\n",
       "                let response = await timeout(1000, fetch(`${rootUrl}discovery`, {\r\n",
       "                    method: 'POST',\r\n",
       "                    cache: 'no-cache',\r\n",
       "                    mode: 'cors',\r\n",
       "                    timeout: 1000,\r\n",
       "                    headers: {\r\n",
       "                        'Content-Type': 'text/plain'\r\n",
       "                    },\r\n",
       "                    body: probingAddresses[i]\r\n",
       "                }));\r\n",
       "\r\n",
       "                if (response.status == 200) {\r\n",
       "                    return rootUrl;\r\n",
       "                }\r\n",
       "            }\r\n",
       "            catch (e) { }\r\n",
       "        }\r\n",
       "    }\r\n",
       "}\r\n",
       "\r\n",
       "function loadDotnetInteractiveApi() {\r\n",
       "    probeAddresses([\"http://172.24.192.1:1000/\", \"http://192.168.1.12:1000/\", \"http://127.0.0.1:1000/\"])\r\n",
       "        .then((root) => {\r\n",
       "        // use probing to find host url and api resources\r\n",
       "        // load interactive helpers and language services\r\n",
       "        let dotnetInteractiveRequire = require.config({\r\n",
       "        context: '15936.Microsoft.DotNet.Interactive.Http.HttpPort',\r\n",
       "                paths:\r\n",
       "            {\r\n",
       "                'dotnet-interactive': `${root}resources`\r\n",
       "                }\r\n",
       "        }) || require;\r\n",
       "\r\n",
       "            window.dotnetInteractiveRequire = dotnetInteractiveRequire;\r\n",
       "\r\n",
       "            window.configureRequireFromExtension = function(extensionName, extensionCacheBuster) {\r\n",
       "                let paths = {};\r\n",
       "                paths[extensionName] = `${root}extensions/${extensionName}/resources/`;\r\n",
       "                \r\n",
       "                let internalRequire = require.config({\r\n",
       "                    context: extensionCacheBuster,\r\n",
       "                    paths: paths,\r\n",
       "                    urlArgs: `cacheBuster=${extensionCacheBuster}`\r\n",
       "                    }) || require;\r\n",
       "\r\n",
       "                return internalRequire\r\n",
       "            };\r\n",
       "        \r\n",
       "            dotnetInteractiveRequire([\r\n",
       "                    'dotnet-interactive/dotnet-interactive'\r\n",
       "                ],\r\n",
       "                function (dotnet) {\r\n",
       "                    dotnet.init(window);\r\n",
       "                },\r\n",
       "                function (error) {\r\n",
       "                    console.log(error);\r\n",
       "                }\r\n",
       "            );\r\n",
       "        })\r\n",
       "        .catch(error => {console.log(error);});\r\n",
       "    }\r\n",
       "\r\n",
       "// ensure `require` is available globally\r\n",
       "if ((typeof(require) !==  typeof(Function)) || (typeof(require.config) !== typeof(Function))) {\r\n",
       "    let require_script = document.createElement('script');\r\n",
       "    require_script.setAttribute('src', 'https://cdnjs.cloudflare.com/ajax/libs/require.js/2.3.6/require.min.js');\r\n",
       "    require_script.setAttribute('type', 'text/javascript');\r\n",
       "    \r\n",
       "    \r\n",
       "    require_script.onload = function() {\r\n",
       "        loadDotnetInteractiveApi();\r\n",
       "    };\r\n",
       "\r\n",
       "    document.getElementsByTagName('head')[0].appendChild(require_script);\r\n",
       "}\r\n",
       "else {\r\n",
       "    loadDotnetInteractiveApi();\r\n",
       "}\r\n",
       "\r\n",
       "    </script>\r\n",
       "</div>"
      ]
     },
     "metadata": {},
     "output_type": "display_data"
    },
    {
     "data": {
      "text/html": [
       "<div><div></div><div></div><div><strong>Installed Packages</strong><ul><li><span>Microsoft.ML, 1.7.1</span></li></ul></div></div>"
      ]
     },
     "metadata": {},
     "output_type": "display_data"
    }
   ],
   "source": [
    "// Instalação do pacote NuGet\n",
    "#r \"nuget:Microsoft.ML\""
   ]
  },
  {
   "cell_type": "code",
   "execution_count": 7,
   "id": "7d85e69c-c9f6-42ef-92bb-1a69087e5333",
   "metadata": {},
   "outputs": [],
   "source": [
    "// Declaração das Uses\n",
    "using System;\n",
    "using System.IO;\n",
    "using Microsoft.ML;\n",
    "using Microsoft.ML.Data;"
   ]
  },
  {
   "cell_type": "code",
   "execution_count": 6,
   "id": "c309dd56-7a7a-4c44-9826-5ca95f1d3756",
   "metadata": {},
   "outputs": [],
   "source": [
    "// Classe de dados\n",
    "public class HouseData\n",
    "{\n",
    "    public float Size { get; set; }\n",
    "    public float Price { get; set; }\n",
    "}"
   ]
  },
  {
   "cell_type": "code",
   "execution_count": 4,
   "id": "20a62df0-cdc6-4fda-9599-532b04291be5",
   "metadata": {},
   "outputs": [],
   "source": [
    "// Classe de dados\n",
    "public class Prediction\n",
    "{\n",
    "    [ColumnName(\"Score\")]\n",
    "    public float Price { get; set; }\n",
    "}"
   ]
  },
  {
   "cell_type": "code",
   "execution_count": 5,
   "id": "2e1872f8-2700-4fa2-bab7-84aac991ac8b",
   "metadata": {},
   "outputs": [],
   "source": [
    "// Primeiro devemos criar um objeto do tipo MLContext\n",
    "// Tudo está ligado a ele\n",
    "// Um aplicativo de ML.Net sempre vai iniciar com um objeto MLContext\n",
    "MLContext mlContext = new MLContext();"
   ]
  },
  {
   "cell_type": "code",
   "execution_count": 8,
   "id": "be9bb6b1-c9bb-4cb0-9e0b-4682c9aa026e",
   "metadata": {},
   "outputs": [],
   "source": [
    "// 1 - Criando o modelo de treinamento, aqui os dados podem vir diretamente de uma consulta do Entity Framework\n",
    "// por uma tabela de dados tratados\n",
    "HouseData[] houseData = {\n",
    "    new HouseData() { Size = 1.1f, Price = 1.2f },\n",
    "    new HouseData() { Size = 1.9f, Price = 2.3f },\n",
    "    new HouseData() { Size = 2.8f, Price = 3.0f },\n",
    "    new HouseData() { Size = 3.4f, Price = 3.7f }\n",
    "};\n",
    "\n",
    "IDataView trainingData = mlContext.Data.LoadFromEnumerable(houseData);"
   ]
  },
  {
   "cell_type": "code",
   "execution_count": 11,
   "id": "f5c09282-83c8-4c93-9778-5ed68fea388b",
   "metadata": {},
   "outputs": [],
   "source": [
    "// 2 - Preaparção dos dados e treinamento do pipeline do modelo\n",
    "var pipeline = mlContext.Transforms.Concatenate(\"Features\", new[] { \"Size\" })\n",
    "                                               .Append(mlContext.Regression.Trainers.Sdca(\n",
    "                                                   labelColumnName: \"Price\", maximumNumberOfIterations: 100));"
   ]
  },
  {
   "cell_type": "code",
   "execution_count": 12,
   "id": "2a180dd9-e159-4d8e-a887-319a5bdae306",
   "metadata": {},
   "outputs": [],
   "source": [
    "// 3 - Treinar o modelo\n",
    "var model = pipeline.Fit(trainingData);"
   ]
  },
  {
   "cell_type": "code",
   "execution_count": 15,
   "id": "c4597615-6265-44bf-9472-911f599b2903",
   "metadata": {},
   "outputs": [],
   "source": [
    "// 4 - Fazer a predição\n",
    "var size = new HouseData() { Size = 2.5f };\n",
    "var price = mlContext.Model.CreatePredictionEngine<HouseData, Prediction>(model).Predict(size);"
   ]
  },
  {
   "cell_type": "code",
   "execution_count": 17,
   "id": "054750f2-6a89-40e5-9e43-edd3b54a9e41",
   "metadata": {},
   "outputs": [
    {
     "name": "stdout",
     "output_type": "stream",
     "text": [
      "O preço previsto para este tamanho é: 2500 m² = R$ 274,90973k\n"
     ]
    }
   ],
   "source": [
    "// 5 - Exibição do resultado\n",
    "Console.WriteLine($\"O preço previsto para este tamanho é: {size.Size*1000} m² = R$ {price.Price*100}k\");"
   ]
  },
  {
   "cell_type": "code",
   "execution_count": 19,
   "id": "9a3a958c-098f-40ec-8b34-6b5eb1540c8a",
   "metadata": {},
   "outputs": [
    {
     "name": "stdout",
     "output_type": "stream",
     "text": [
      "R^2: 0,97\n",
      "RMS error: 0,18\n"
     ]
    }
   ],
   "source": [
    "// Avaliação do modelo\n",
    "HouseData[] testHouseData = \n",
    "{\n",
    "    new HouseData() { Size = 1.1f, Price = 0.98f },\n",
    "    new HouseData() { Size = 1.9f, Price = 2.1f },\n",
    "    new HouseData() { Size = 2.8f, Price = 2.9f },\n",
    "    new HouseData() { Size = 3.4f, Price = 3.6f }\n",
    "};\n",
    "\n",
    "var testHouseDataView = mlContext.Data.LoadFromEnumerable(testHouseData);\n",
    "var testPriceDataView = model.Transform(testHouseDataView);\n",
    "\n",
    "var metrics = mlContext.Regression.Evaluate(testPriceDataView, labelColumnName: \"Price\");\n",
    "\n",
    "Console.WriteLine($\"R^2: {metrics.RSquared:0.##}\");\n",
    "Console.WriteLine($\"RMS error: {metrics.RootMeanSquaredError:0.##}\");"
   ]
  },
  {
   "cell_type": "code",
   "execution_count": 20,
   "id": "ee1dd691-9315-43b1-81bd-2602e7c8c065",
   "metadata": {},
   "outputs": [],
   "source": [
    "// Salvar o modelo treinado em arquivo\n",
    "private static string modelPath = @\"./HouseModel.zip\";\n",
    "\n",
    "mlContext.Model.Save(model, trainingData.Schema, modelPath);"
   ]
  },
  {
   "cell_type": "code",
   "execution_count": null,
   "id": "1de431ea-802b-4256-b41d-6fe7654a923e",
   "metadata": {},
   "outputs": [],
   "source": []
  }
 ],
 "metadata": {
  "kernelspec": {
   "display_name": ".NET (C#)",
   "language": "C#",
   "name": ".net-csharp"
  },
  "language_info": {
   "file_extension": ".cs",
   "mimetype": "text/x-csharp",
   "name": "C#",
   "pygments_lexer": "csharp",
   "version": "10.0"
  }
 },
 "nbformat": 4,
 "nbformat_minor": 5
}
